{
 "cells": [
  {
   "cell_type": "code",
   "execution_count": null,
   "metadata": {},
   "outputs": [],
   "source": [
    "#import import_ipynb\n",
    "from ipynb.fs.full.cell_lib import *\n",
    "\n",
    "path = './samples/blood_smear_2.JPG'\n",
    "\n",
    "images, stats = otsu_method(path)\n",
    "plt.title(\"otsu %d Cells %d Internal %d External %s\" % stats)\n",
    "plt.imshow(images[0])\n",
    "plt.show()\n",
    "\n",
    "images, stats = otsu_method(path, blur=False)\n",
    "plt.title(\"otsu w/out blur %d Cells %d Internal %d External %s\" % stats)\n",
    "plt.imshow(images[0])\n",
    "plt.show()\n",
    "\n",
    "images, stats = hsv_method(path)\n",
    "plt.title(\"hsv %d Cells %d Internal %d External %s\" % stats)\n",
    "plt.imshow(images[0])\n",
    "plt.show()\n",
    "\n",
    "images, stats = hsv_method(path, erode=False)\n",
    "plt.title(\"hsv w/out erode %d Cells %d Internal %d External %s\" % stats)\n",
    "plt.imshow(images[0])\n",
    "plt.show()\n",
    "\n",
    "images, stats = watershed_method(path)\n",
    "plt.title(\"watershed erode %d Cells %d Internal %d External %s\" % stats)\n",
    "plt.imshow(images[0])\n",
    "plt.show()\n",
    "\n",
    "images, stats = hough_circles_method(path)\n",
    "plt.title(\"hough circles erode %d Cells %d Internal %d External %s\" % stats)\n",
    "plt.imshow(images[0])\n",
    "plt.show()"
   ]
  },
  {
   "cell_type": "code",
   "execution_count": null,
   "metadata": {},
   "outputs": [],
   "source": []
  }
 ],
 "metadata": {
  "kernelspec": {
   "display_name": "Python 3",
   "language": "python",
   "name": "python3"
  },
  "language_info": {
   "codemirror_mode": {
    "name": "ipython",
    "version": 3
   },
   "file_extension": ".py",
   "mimetype": "text/x-python",
   "name": "python",
   "nbconvert_exporter": "python",
   "pygments_lexer": "ipython3",
   "version": "3.8.5"
  }
 },
 "nbformat": 4,
 "nbformat_minor": 4
}
