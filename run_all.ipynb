{
 "cells": [
  {
   "cell_type": "code",
   "execution_count": null,
   "metadata": {},
   "outputs": [],
   "source": [
    "import os\n",
    "import glob\n",
    "from ipynb.fs.full.cell_lib import *\n",
    "\n",
    "path = './samples/blood_smear_1.JPG'\n",
    "\n",
    "def run_all(path):\n",
    "    \n",
    "    fig, ax = plt.subplots(ncols=3,nrows=2,figsize=(20,8))\n",
    "    \n",
    "    images, stats = otsu_method(path)\n",
    "    ax[0,0].set_title(\"otsu %d Cells %d Internal %d External %s\" % stats)\n",
    "    ax[0,0].imshow(images[0])\n",
    "    \n",
    "    images, stats = otsu_method(path, blur=False)\n",
    "    ax[0,1].set_title(\"otsu w/out blur %d Cells %d Internal %d External %s\" % stats)\n",
    "    ax[0,1].imshow(images[0])\n",
    "\n",
    "    images, stats = hsv_method(path)\n",
    "    ax[0,2].set_title(\"hsv %d Cells %d Internal %d External %s\" % stats)\n",
    "    ax[0,2].imshow(images[0])\n",
    "\n",
    "    images, stats = hsv_method(path, erode=False)\n",
    "    ax[1,0].set_title(\"hsv w/out erode %d Cells %d Internal %d External %s\" % stats)\n",
    "    ax[1,0].imshow(images[0])\n",
    "\n",
    "    images, stats = watershed_method(path)\n",
    "    ax[1,1].set_title(\"watershed erode %d Cells %d Internal %d External %s\" % stats)\n",
    "    ax[1,1].imshow(images[0])\n",
    "\n",
    "    images, stats = hough_circles_method(path)\n",
    "    ax[1,2].set_title(\"hough circles erode %d Cells %d Internal %d External %s\" % stats)\n",
    "    ax[1,2].imshow(images[0])\n",
    "    \n",
    "    fig.suptitle(path, fontsize=16)\n",
    "    \n",
    "    plt.show()\n",
    "    \n",
    "run_all(path)"
   ]
  },
  {
   "cell_type": "code",
   "execution_count": null,
   "metadata": {},
   "outputs": [],
   "source": [
    "name = \"./samples/blood_smear_%d.JPG\"\n",
    "for i in range(2,10):\n",
    "    path = name % i\n",
    "    run_all(path)"
   ]
  },
  {
   "cell_type": "code",
   "execution_count": null,
   "metadata": {},
   "outputs": [],
   "source": []
  }
 ],
 "metadata": {
  "kernelspec": {
   "display_name": "Python 3",
   "language": "python",
   "name": "python3"
  },
  "language_info": {
   "codemirror_mode": {
    "name": "ipython",
    "version": 3
   },
   "file_extension": ".py",
   "mimetype": "text/x-python",
   "name": "python",
   "nbconvert_exporter": "python",
   "pygments_lexer": "ipython3",
   "version": "3.8.5"
  }
 },
 "nbformat": 4,
 "nbformat_minor": 4
}
