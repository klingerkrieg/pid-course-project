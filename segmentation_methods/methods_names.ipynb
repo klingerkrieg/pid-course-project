{
 "cells": [
  {
   "cell_type": "code",
   "execution_count": 1,
   "id": "3c3e4987",
   "metadata": {},
   "outputs": [],
   "source": [
    "UNETv1        = 'U-net 256'\n",
    "UNETv2        = 'U-net 416'\n",
    "UNETv3        = 'U-net 256b'\n",
    "UNETv4        = 'U-net 416b'\n",
    "UNETv5        = 'U-net 384b'\n",
    "UNETv6        = 'U-net 384'\n",
    "UNETv7        = 'U-net 256 new dataset'\n",
    "OTSU          = 'OTSU'\n",
    "OTSU_OUT_BLUR = 'OTSU w-out blur'\n",
    "HSV           = 'HSV'\n",
    "HSV_HULL      = 'HSV convex hull'\n",
    "WATERSHED     = 'Watershed'\n",
    "HOUGH         = 'Hough Circles'\n",
    "OTSU_HOUGH_1  = 'OTSU and Hough method 1 break'\n",
    "OTSU_HOUGH_2  = 'OTSU and Hough method 2 merge'\n",
    "YOLOv1        = 'Yolo 256'\n",
    "YOLOv2        = 'Yolo 384'\n",
    "YOLOv3        = 'Yolo 416'\n",
    "YOLOv4        = 'Yolo 512'\n",
    "YOLOv5        = 'Yolo 512 new dataset'\n",
    "\n",
    "\n",
    "RCNNv1        = 'RCNNv1 1024'\n",
    "RCNNv2        = 'RCNNv2 256'\n",
    "RCNNv3        = 'RCNNv3 384'\n",
    "RCNNv4        = 'RCNNv4 1024'\n",
    "\n",
    "ALL_METHODS = [UNETv1,UNETv2,UNETv3,UNETv4, UNETv5, UNETv6, OTSU, OTSU_OUT_BLUR, HSV, \n",
    "                HSV_HULL, WATERSHED, HOUGH, OTSU_HOUGH_1, OTSU_HOUGH_2,\n",
    "              YOLOv1, YOLOv2, YOLOv3, YOLOv4, RCNNv4]"
   ]
  }
 ],
 "metadata": {
  "kernelspec": {
   "display_name": "Python 3 (ipykernel)",
   "language": "python",
   "name": "python3"
  },
  "language_info": {
   "codemirror_mode": {
    "name": "ipython",
    "version": 3
   },
   "file_extension": ".py",
   "mimetype": "text/x-python",
   "name": "python",
   "nbconvert_exporter": "python",
   "pygments_lexer": "ipython3",
   "version": "3.7.9"
  }
 },
 "nbformat": 4,
 "nbformat_minor": 5
}
