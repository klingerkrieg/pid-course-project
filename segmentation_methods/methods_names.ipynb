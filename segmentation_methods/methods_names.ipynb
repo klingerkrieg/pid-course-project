{
 "cells": [
  {
   "cell_type": "code",
   "execution_count": 1,
   "id": "3c3e4987",
   "metadata": {},
   "outputs": [],
   "source": [
    "UNET          = 'U-net'\n",
    "OTSU          = 'OTSU'\n",
    "OTSU_OUT_BLUR = 'OTSU w/out blur'\n",
    "HSV           = 'HSV'\n",
    "HSV_HULL      = 'HSV convex hull'\n",
    "WATERSHED     = 'Watershed'\n",
    "HOUGH         = 'Hough Circles'\n",
    "OTSU_HOUGH_1  = 'OTSU + Hough method 1 break'\n",
    "OTSU_HOUGH_2  = 'OTSU + Hough method 2 merge'\n",
    "\n",
    "ALL_METHODS = [UNET, OTSU, OTSU_OUT_BLUR, HSV, HSV_HULL, WATERSHED, HOUGH, OTSU_HOUGH_1, OTSU_HOUGH_2]"
   ]
  }
 ],
 "metadata": {
  "kernelspec": {
   "display_name": "Python 3 (ipykernel)",
   "language": "python",
   "name": "python3"
  },
  "language_info": {
   "codemirror_mode": {
    "name": "ipython",
    "version": 3
   },
   "file_extension": ".py",
   "mimetype": "text/x-python",
   "name": "python",
   "nbconvert_exporter": "python",
   "pygments_lexer": "ipython3",
   "version": "3.7.9"
  }
 },
 "nbformat": 4,
 "nbformat_minor": 5
}
