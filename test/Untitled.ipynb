{
 "cells": [
  {
   "cell_type": "code",
   "execution_count": null,
   "metadata": {},
   "outputs": [],
   "source": [
    "import cv2\n",
    "import matplotlib.pyplot as plt\n",
    "import glob"
   ]
  },
  {
   "cell_type": "code",
   "execution_count": null,
   "metadata": {},
   "outputs": [],
   "source": [
    "def mark(txt_path,img_path):\n",
    "    f = open(txt_path,\"r\")\n",
    "    txt = f.read()\n",
    "    f.close()\n",
    "\n",
    "    lines = txt.split(\"\\n\")\n",
    "    del lines[0]\n",
    "\n",
    "    img = cv2.imread(img_path)\n",
    "    img = cv2.cvtColor(img,cv2.COLOR_BGR2RGB)\n",
    "    img = cv2.resize(img,(640,480))\n",
    "\n",
    "    for line in lines:\n",
    "        data = line.split(\" \")\n",
    "\n",
    "        if len(data) > 1:\n",
    "            area = int(data[1])\n",
    "            if 500 < area:\n",
    "                x = int(data[5])\n",
    "                y = int(data[6])\n",
    "                w = int(data[7])\n",
    "                h = int(data[8])\n",
    "                cv2.rectangle(img, (x,y), (x+w,y+h), (255,0,0), 1)\n",
    "\n",
    "    plt.imshow(img)\n",
    "    plt.show()"
   ]
  },
  {
   "cell_type": "code",
   "execution_count": null,
   "metadata": {},
   "outputs": [],
   "source": [
    "for file in glob.glob(\"./result/*infoText.txt\"):\n",
    "    name = file.replace(\"_infoText.txt\",\"\").replace(\"./result\\\\\",\"\")\n",
    "    image = \"./images/\"+name+\".JPG\"\n",
    "    print(name)\n",
    "    mark(file,image)"
   ]
  },
  {
   "cell_type": "code",
   "execution_count": null,
   "metadata": {},
   "outputs": [],
   "source": [
    "def getCount(name):\n",
    "    img = cv2.imread(name,1)\n",
    "    img = cv2.cvtColor(img, cv2.COLOR_BGR2RGB)\n",
    "    mask = cv2.inRange(img, (240,0,0), (255,0,0))\n",
    "    plt.imshow(mask)\n",
    "    plt.show()\n",
    "    num, _, _, _ = cv2.connectedComponentsWithStats(mask, 4, cv2.CV_32S)\n",
    "    return {\"CELLS\":num -1}\n",
    "\n",
    "\n",
    "def getOriginalCount(name):\n",
    "    name = name.replace(\"samples\\\\\",\"samples/result/\") + \"_resultText.txt\"\n",
    "    f = open(name,'r')\n",
    "    txt = f.read().replace(\"\\x00\",\" \")\n",
    "    f.close()\n",
    "    lines = txt.split(\"\\n\")\n",
    "    return {\"CELLS\":int(lines[1].split(\" \")[1])}\n",
    "                            \n",
    "                            \n",
    "for file in glob.glob(\"../samples/*_count.jpg\"):\n",
    "    name = file.replace(\"_count.JPG\",\"\")\n",
    "    print(getCount(file))\n",
    "    print(getOriginalCount(name))\n",
    "    #mark(file,image)"
   ]
  }
 ],
 "metadata": {
  "kernelspec": {
   "display_name": "Python 3",
   "language": "python",
   "name": "python3"
  },
  "language_info": {
   "codemirror_mode": {
    "name": "ipython",
    "version": 3
   },
   "file_extension": ".py",
   "mimetype": "text/x-python",
   "name": "python",
   "nbconvert_exporter": "python",
   "pygments_lexer": "ipython3",
   "version": "3.8.5"
  }
 },
 "nbformat": 4,
 "nbformat_minor": 4
}
